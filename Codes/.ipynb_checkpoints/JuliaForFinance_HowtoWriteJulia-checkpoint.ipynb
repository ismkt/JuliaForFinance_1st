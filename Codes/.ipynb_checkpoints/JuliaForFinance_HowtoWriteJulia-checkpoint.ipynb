{
 "cells": [
  {
   "cell_type": "markdown",
   "metadata": {},
   "source": [
    "# Juliaで動かす金融計算-Juliaの書き方①\n",
    "\n",
    "ここからは, 今回扱う`Julia`の基本的な使い方を紹介します.  \n",
    "ここで紹介することを押さえておけば, 本講座については最低限付いていける...かもしれません.  \n",
    "なんとなく, `Python`や`MATLAB`を書いたことがある人は馴染みが早い部分があるかもしれませんが, 別に触れたことなくても大丈夫です.  \n",
    "コードを書くために, ソースファイル`HowToWriteJulia_1.jl`を作っておきましょう.  \n",
    "\n",
    "（参考）  \n",
    "ここで紹介する基本的な言語仕様については, [公式資料](https://docs.julialang.org/en/v1/)も併せて確認されると, 理解が深まるかもしれません."
   ]
  },
  {
   "cell_type": "markdown",
   "metadata": {},
   "source": [
    "## Hello World!\n"
   ]
  },
  {
   "cell_type": "markdown",
   "metadata": {},
   "source": [
    "まずは定番の`Hello World!`という文字列の出力からやっていきましょう.  \n",
    "と言いつつも, 実は環境構築編で既に動作確認のために書いたプログラムがそれです.\n",
    "`println()`で中に書いた文字列を1行として出力します.  \n"
   ]
  },
  {
   "cell_type": "code",
   "execution_count": 1,
   "metadata": {},
   "outputs": [
    {
     "name": "stdout",
     "output_type": "stream",
     "text": [
      "Hello World!\n"
     ]
    }
   ],
   "source": [
    "println(\"Hello World!\")"
   ]
  },
  {
   "cell_type": "markdown",
   "metadata": {},
   "source": [
    "`println()`で中に書いた文字列を1行として出力します.  \n",
    "改行せずに表示したい場合は`print()`を使ってください.  \n",
    "また, `Julia`では, 文字列はダブルクォーテーション`\"\"`で囲む必要があります.  \n",
    "文字列については後程扱いますので, 今は先に進みましょう."
   ]
  },
  {
   "cell_type": "markdown",
   "metadata": {},
   "source": [
    "## 四則演算\n"
   ]
  },
  {
   "cell_type": "markdown",
   "metadata": {},
   "source": [
    "先ほどは出力の仕方を学びました.  \n",
    "ここでは, 数値計算の基礎として, 四則演算の仕方を学びましょう."
   ]
  },
  {
   "cell_type": "code",
   "execution_count": 3,
   "metadata": {},
   "outputs": [
    {
     "name": "stdout",
     "output_type": "stream",
     "text": [
      "3\n",
      "-1\n",
      "2\n",
      "0.5\n"
     ]
    }
   ],
   "source": [
    "a = 1 #変数への値の代入はこれでOK\n",
    "b = 2\n",
    "println(a + b)\n",
    "println(a - b)\n",
    "println(a * b)\n",
    "println(a / b) #これが0ではなくて0.5になる"
   ]
  },
  {
   "cell_type": "markdown",
   "metadata": {},
   "source": [
    "簡単な四則演算の仕方を紹介しました.  \n",
    "基本的に, その辺のプログラミング言語と大して変わらないと思いますが, 1点だけ補足しておきます.  \n",
    "それは整数同士の割り算の結果が勝手に実数型になるところです.  \n",
    "`Julia`では, 数値計算時に, この辺はよしなに判断してやってくれます.  \n",
    "プログラミング言語によっては, 整数同士の割り算の結果が整数になることもあるので注意してください.  \n",
    "また, 変数を使うときに, 型を宣言しなくていいのも`Julia`の特徴の一つです."
   ]
  },
  {
   "cell_type": "markdown",
   "metadata": {},
   "source": [
    "## 型について\n"
   ]
  },
  {
   "cell_type": "markdown",
   "metadata": {},
   "source": [
    "先ほど, `Julia`では変数の型をわざわざ宣言しなくていいと述べました.  \n",
    "では, `Julia`に型は無いのかといわれると, そうではありません.  \n",
    "`Julia`では, 整数を表す`Int`型や, 実数を表す`Real`型, 文字列を表す`String`型...等様々な型があります.  \n",
    "また`C#`等の`object`型に相当するものは, `Any`です.\n",
    "型の間の変換, キャストについて知っておきましょう.\n",
    "\n",
    "（余談）  \n",
    "数学がわかる人向けに紹介しますが, `Julia`には有理数を表す型, 複素数を表す型もあります. "
   ]
  },
  {
   "cell_type": "code",
   "execution_count": 11,
   "metadata": {},
   "outputs": [
    {
     "name": "stdout",
     "output_type": "stream",
     "text": [
      "1:Int64\n",
      "2:String\n"
     ]
    }
   ],
   "source": [
    "str_a = \"1\"\n",
    "int_a = parse(Int, str_a) #文字列⇒整数はparse(Int, )を使う\n",
    "println(int_a, \":\" ,typeof(int_a))\n",
    "\n",
    "int_b = 2\n",
    "str_b = string(int_b) #数値⇒文字列はstring()を使う\n",
    "println(str_b, \":\", typeof(str_b))"
   ]
  },
  {
   "cell_type": "markdown",
   "metadata": {},
   "source": [
    "`typeof()`という関数を使うことで, 変数の型を調べることができます.  \n",
    "デバッグなどの際に役立つので知っておくといいかもしれません."
   ]
  },
  {
   "cell_type": "markdown",
   "metadata": {},
   "source": [
    "## 変数に使える文字\n"
   ]
  },
  {
   "cell_type": "markdown",
   "metadata": {},
   "source": [
    "`Julia`はUTF-8が使えます.  \n",
    "また, ユニコードに完全に対応しているらしいです.  \n",
    "つまり, 変数名にギリシャ文字（`α`や`β`など）が使えます.  \n",
    "ちょっとこれらを見てみましょう.  "
   ]
  },
  {
   "cell_type": "code",
   "execution_count": 6,
   "metadata": {},
   "outputs": [
    {
     "name": "stdout",
     "output_type": "stream",
     "text": [
      "true\n"
     ]
    }
   ],
   "source": [
    "α = 0.01 #/alphaと打ってTabキーを押すとαが出せる\n",
    "σ = 0.2 #これは\\sigmaと打ってTabキー\n",
    "\n",
    "println(α ≤ σ) #\\leqと打ってTabキーで≤が出せる"
   ]
  },
  {
   "cell_type": "markdown",
   "metadata": {},
   "source": [
    "ほかにも色々な記号が使えますが, 具体的に何が使えるかは自分で調べてみてください."
   ]
  },
  {
   "cell_type": "markdown",
   "metadata": {},
   "source": [
    "## 配列\n"
   ]
  },
  {
   "cell_type": "markdown",
   "metadata": {},
   "source": [
    "`Julia`にも他の言語と同じように配列があります.  \n",
    "その使い方を簡単に見ておきましょう."
   ]
  },
  {
   "cell_type": "code",
   "execution_count": 2,
   "metadata": {},
   "outputs": [
    {
     "name": "stdout",
     "output_type": "stream",
     "text": [
      "Any[2, 1]\n",
      "2\n",
      "1\n"
     ]
    },
    {
     "data": {
      "text/plain": [
       "5-element Vector{Float64}:\n",
       " 0.0\n",
       " 0.0\n",
       " 0.0\n",
       " 0.0\n",
       " 0.0"
      ]
     },
     "metadata": {},
     "output_type": "display_data"
    }
   ],
   "source": [
    "arr = [] #これで配列が初期化されます.\n",
    "push!(arr, 1) #配列の末尾に要素を追加\n",
    "pushfirst!(arr, 2) #配列の先頭に要素を追加\n",
    "println(arr)\n",
    "\n",
    "first = arr[1] #Juliaの配列のインデックスは1始まり\n",
    "println(first)\n",
    "\n",
    "final = arr[end]#実はendとすると配列の最後の要素が取り出せる\n",
    "println(final)\n",
    "\n",
    "z = zeros(5) #要素が0.0で長さ5の配列を生成"
   ]
  },
  {
   "cell_type": "markdown",
   "metadata": {},
   "source": [
    "配列に要素を追加するには`push!()`という関数を使います.  \n",
    "`push!()`では末尾に要素が追加されるのですが, `pushfirst!()`では先頭に要素が追加されます.  \n",
    "配列の初期化については, `arr = []`以外にも方法が用意されていて, 例えば`zeros(n)`とすると, 要素が全て`0.0`で長さ`n`の配列が得られます.  \n",
    "ここが`Julia`の特徴ですが, **配列のインデックスは1始まり**です.  \n",
    "\n",
    "なお, 配列を`println()`で表示したときに`Any[]`と表示されますが, この`Any`は配列要素の型を表しています.  \n",
    "つまり, 上のコード中の`arr`は配列要素の型が具体的に指定されていない状態です.  \n",
    "具体的に型を指定したい場合は`arr = Int[]`のように宣言します.  "
   ]
  },
  {
   "cell_type": "markdown",
   "metadata": {},
   "source": [
    "## for文\n"
   ]
  },
  {
   "cell_type": "markdown",
   "metadata": {},
   "source": [
    "制御構文の1つである`for`文の書き方を見ておきましょう.  \n",
    "`for`文を使うことで, 繰り返し処理の記述が可能になります.  \n",
    "`for`文の繰り返し範囲の指定にはイテレータを記述する`1:5`や配列が使えます.  \n",
    "具体的に使い方を見てましょう."
   ]
  },
  {
   "cell_type": "code",
   "execution_count": 30,
   "metadata": {},
   "outputs": [
    {
     "name": "stdout",
     "output_type": "stream",
     "text": [
      "1から3まで数を表示\n",
      "1\n",
      "2\n",
      "3\n",
      "1から5まで間隔2で表示\n",
      "1\n",
      "3\n",
      "5\n",
      "配列の要素を表示\n"
     ]
    },
    {
     "name": "stdout",
     "output_type": "stream",
     "text": [
      "1\n",
      "2\n",
      "4\n"
     ]
    }
   ],
   "source": [
    "println(\"1から3まで数を表示\")\n",
    "for i in 1:3\n",
    "    println(i)\n",
    "end\n",
    "\n",
    "println(\"1から5まで間隔2で表示\")\n",
    "for i in 1:2:5\n",
    "    println(i)\n",
    "end\n",
    "\n",
    "arr = [1 , 2 , 4] #配列はこうやっても作れる\n",
    "println(\"配列の要素を表示\")\n",
    "for a in arr\n",
    "    println(a)\n",
    "end"
   ]
  },
  {
   "cell_type": "markdown",
   "metadata": {},
   "source": [
    "`for`文の後ろには必ず`end`を付けます.  \n",
    "`C#`とは異なり, 繰り返し範囲の指定に配列を用いる時でも`foreach`ではなく`for`でOKです."
   ]
  },
  {
   "cell_type": "markdown",
   "metadata": {},
   "source": [
    "### 内包表記"
   ]
  },
  {
   "cell_type": "markdown",
   "metadata": {},
   "source": [
    "`Python`等と同じように, 実は以下のようにして配列の作成が可能です.\n",
    "```  Julia\n",
    "    arr = [i for i in 1:10] #1から10までの要素を持つ配列を作る\n",
    "```  \n",
    "この`[]`の中に繰り返し分を書く記法を内包表記といいます.  \n",
    "`Python`を少し触ったことがある人は, 「`Python`の配列は内包表記のほうが`for`文より速い」という説明を聴いたことがあるかもしれません.  \n",
    "**`Julia`では逆に, 内包表記は速度低下を招くことがあるので, 基本的には`for`文のほうが速い**です.  \n",
    "とはいえ, まぁ便利な書き方ではあるので, 覚えておいて損はないかもしれません."
   ]
  },
  {
   "cell_type": "markdown",
   "metadata": {},
   "source": [
    "## if文\n"
   ]
  },
  {
   "cell_type": "markdown",
   "metadata": {},
   "source": [
    "\n",
    "次は, 条件分岐のための`if`文を見ていきましょう."
   ]
  },
  {
   "cell_type": "code",
   "execution_count": 31,
   "metadata": {},
   "outputs": [
    {
     "name": "stdout",
     "output_type": "stream",
     "text": [
      "aは1です\n",
      "bは1, 2以外です\n"
     ]
    }
   ],
   "source": [
    "a = 1\n",
    "b = 2\n",
    "\n",
    "if a == 1\n",
    "    println(\"aは1です\")\n",
    "end\n",
    "\n",
    "if b == 1\n",
    "    println(\"bは1です\")\n",
    "elseif  b == 1\n",
    "    println(\"bは2です\")\n",
    "else\n",
    "    println(\"bは1, 2以外です\")\n",
    "end\n"
   ]
  },
  {
   "cell_type": "markdown",
   "metadata": {},
   "source": [
    "`if`文も, `for`文同様に最後に`end`をつける必要があります.  \n",
    "`if ～ elseif ～ else`もサポートされています.  \n",
    "条件判定に使える論理式ですが, 他の言語とそこまで変わりはありません.  \n",
    "`&&` や `||`が使えます."
   ]
  },
  {
   "cell_type": "markdown",
   "metadata": {},
   "source": [
    "## 関数\n"
   ]
  },
  {
   "cell_type": "markdown",
   "metadata": {},
   "source": [
    "\n",
    "`Julia`では, 他のプログラミング言語と同様に自分で関数を定義することができます.  \n",
    "また, ラムダ式もサポートされています."
   ]
  },
  {
   "cell_type": "code",
   "execution_count": 51,
   "metadata": {},
   "outputs": [
    {
     "name": "stdout",
     "output_type": "stream",
     "text": [
      "7\n",
      "ラムダ式的な書き方もできるよ\n",
      "6\n"
     ]
    }
   ],
   "source": [
    "#自分で関数を定義\n",
    "function AddNumber(a, b)\n",
    "    return a + b\n",
    "end\n",
    "\n",
    "#関数を呼び出す\n",
    "c = AddNumber(2 , 5)\n",
    "println(c)\n",
    "\n",
    "#ラムダ式\n",
    "f = () -> println(\"ラムダ式的な書き方もできるよ\")\n",
    "f()\n",
    "\n",
    "#begin endを使って複雑なラムダ式も生成可能\n",
    "f_lambda = () -> begin\n",
    "    a = 2\n",
    "    b = 3\n",
    "    return a * b\n",
    "end\n",
    "\n",
    "println(f_lambda())"
   ]
  },
  {
   "cell_type": "markdown",
   "metadata": {},
   "source": [
    "もう少しだけ, 関数について補足しておきましょう.  \n",
    "`Julia`においては, 関数というのは引数のタプルを受け取って値を返す**オブジェクト**です.  \n",
    "つまり, ざっくり言うと`Julia`では, 関数はほかの変数などと同じように, 別の関数の引数や戻り値として扱うことができます.  \n",
    "（ちなみに, 関数を引数に取ったり, 関数を戻り値にする関数のことを高階関数と呼びます.）"
   ]
  },
  {
   "cell_type": "code",
   "execution_count": 57,
   "metadata": {},
   "outputs": [
    {
     "name": "stdout",
     "output_type": "stream",
     "text": [
      "5\n",
      "-1\n",
      "6\n",
      "0.6666666666666666\n"
     ]
    }
   ],
   "source": [
    "function f1(a, b)\n",
    "    return a + b\n",
    "end\n",
    "\n",
    "function f2(a, b)\n",
    "    return a - b\n",
    "end\n",
    "\n",
    "#関数を引数にとる関数\n",
    "function g(f, a, b)\n",
    "    return f(a, b)\n",
    "end\n",
    "\n",
    "println(g(f1, 2, 3))\n",
    "println(g(f2, 2, 3))\n",
    "\n",
    "#当然ラムダ式でも可\n",
    "println(g((a, b) -> a * b, 2, 3))\n",
    "\n",
    "#関数を戻り値にする関数\n",
    "function make_function()\n",
    "    f = (a, b) -> a / b\n",
    "    return f\n",
    "end\n",
    "\n",
    "f = make_function()\n",
    "println(g(f, 2, 3))"
   ]
  },
  {
   "cell_type": "markdown",
   "metadata": {},
   "source": [
    "最後に, `Julia`におけるちょっとしたtipsを紹介します.  \n",
    "`Julia`はグローバル変数を使ってしまうと, 処理が遅くなってしまうことが知られています([公式のPerformance Tips](https://docs.julialang.org/en/v1/manual/performance-tips/)).  \n",
    "単にソースに「直に」変数などを書いてしまうと, それらはグローバル変数だと解釈されて, 処理速度低下の原因になります.  \n",
    "それを避けるために, **`main()`関数の中に処理を書いて, `main()`関数を実行するというスタイル**が推奨されています.([参考](https://bkamins.github.io/julialang/2022/07/15/main.html))\n",
    "\n",
    "``` Julia\n",
    "function main()\n",
    "    #ここに処理を書く\n",
    "end\n",
    "\n",
    "main()\n",
    "```"
   ]
  },
  {
   "cell_type": "markdown",
   "metadata": {},
   "source": [
    "## パッケージの使い方"
   ]
  },
  {
   "cell_type": "markdown",
   "metadata": {},
   "source": [
    "\n",
    "`Julia`では, 有志が作った様々なパッケージが存在します.  \n",
    "そのパッケージの入れ方とその簡単な使い方を説明します.  "
   ]
  },
  {
   "cell_type": "markdown",
   "metadata": {},
   "source": [
    "### パッケージのダウンロード方法"
   ]
  },
  {
   "cell_type": "markdown",
   "metadata": {},
   "source": [
    "\n",
    "1. デスクトップアイコンをクリックして`Julia`のプロンプト画面を起動する.\n",
    "1. `]`キーを押す.(これでパッケージモードになる)  \n",
    "![image.png](attachment:image.png)\n",
    "1. `add (パッケージ名)`と入力して`Enter`キーを押す.(練習のために, `Distributions`というパッケージをダウンロードしてみましょう.)  \n",
    "![image-2.png](attachment:image-2.png)\n",
    "1. ダウンロードが成功したら, `Ctrl + C`か`Backspace`キーでパッケージモードを抜けます.\n"
   ]
  },
  {
   "cell_type": "markdown",
   "metadata": {},
   "source": [
    "### パッケージの使い方\n"
   ]
  },
  {
   "cell_type": "markdown",
   "metadata": {},
   "source": [
    "早速, 先ほど入れたパッケージを使ってみましょう.  \n",
    "パッケージを使うには, `using (パッケージ名)`とします.  "
   ]
  },
  {
   "cell_type": "code",
   "execution_count": 63,
   "metadata": {},
   "outputs": [
    {
     "data": {
      "image/png": "[encoded data removed]",
      "image/svg+xml": [
       "<?xml version=\"1.0\" encoding=\"utf-8\"?>\n",
       "<svg xmlns=\"http://www.w3.org/2000/svg\" xmlns:xlink=\"http://www.w3.org/1999/xlink\" width=\"600\" height=\"400\" viewBox=\"0 0 2400 1600\">\n",
       "<defs>\n",
       "  <clipPath id=\"clip610\">\n",
       "    <rect x=\"0\" y=\"0\" width=\"2400\" height=\"1600\"/>\n",
       "  </clipPath>\n",
       "</defs>\n",
       "<path clip-path=\"url(#clip610)\" d=\"M0 1600 L2400 1600 L2400 0 L0 0  Z\" fill=\"#ffffff\" fill-rule=\"evenodd\" fill-opacity=\"1\"/>\n",
       "<defs>\n",
       "  <clipPath id=\"clip611\">\n",
       "    <rect x=\"480\" y=\"0\" width=\"1681\" height=\"1600\"/>\n",
       "  </clipPath>\n",
       "</defs>\n",
       "<path clip-path=\"url(#clip610)\" d=\"M156.598 1486.45 L2352.76 1486.45 L2352.76 47.2441 L156.598 47.2441  Z\" fill=\"#ffffff\" fill-rule=\"evenodd\" fill-opacity=\"1\"/>\n",
       "<defs>\n",
       "  <clipPath id=\"clip612\">\n",
       "    <rect x=\"156\" y=\"47\" width=\"2197\" height=\"1440\"/>\n",
       "  </clipPath>\n",
       "</defs>\n",
       "<polyline clip-path=\"url(#clip612)\" style=\"stroke:#000000; stroke-linecap:round; stroke-linejoin:round; stroke-width:2; stroke-opacity:0.1; fill:none\" points=\"419.034,1486.45 419.034,47.2441 \"/>\n",
       "<polyline clip-path=\"url(#clip612)\" style=\"stroke:#000000; stroke-linecap:round; stroke-linejoin:round; stroke-width:2; stroke-opacity:0.1; fill:none\" points=\"697.582,1486.45 697.582,47.2441 \"/>\n",
       "<polyline clip-path=\"url(#clip612)\" style=\"stroke:#000000; stroke-linecap:round; stroke-linejoin:round; stroke-width:2; stroke-opacity:0.1; fill:none\" points=\"976.129,1486.45 976.129,47.2441 \"/>\n",
       "<polyline clip-path=\"url(#clip612)\" style=\"stroke:#000000; stroke-linecap:round; stroke-linejoin:round; stroke-width:2; stroke-opacity:0.1; fill:none\" points=\"1254.68,1486.45 1254.68,47.2441 \"/>\n",
       "<polyline clip-path=\"url(#clip612)\" style=\"stroke:#000000; stroke-linecap:round; stroke-linejoin:round; stroke-width:2; stroke-opacity:0.1; fill:none\" points=\"1533.22,1486.45 1533.22,47.2441 \"/>\n",
       "<polyline clip-path=\"url(#clip612)\" style=\"stroke:#000000; stroke-linecap:round; stroke-linejoin:round; stroke-width:2; stroke-opacity:0.1; fill:none\" points=\"1811.77,1486.45 1811.77,47.2441 \"/>\n",
       "<polyline clip-path=\"url(#clip612)\" style=\"stroke:#000000; stroke-linecap:round; stroke-linejoin:round; stroke-width:2; stroke-opacity:0.1; fill:none\" points=\"2090.32,1486.45 2090.32,47.2441 \"/>\n",
       "<polyline clip-path=\"url(#clip610)\" style=\"stroke:#000000; stroke-linecap:round; stroke-linejoin:round; stroke-width:4; stroke-opacity:1; fill:none\" points=\"156.598,1486.45 2352.76,1486.45 \"/>\n",
       "<polyline clip-path=\"url(#clip610)\" style=\"stroke:#000000; stroke-linecap:round; stroke-linejoin:round; stroke-width:4; stroke-opacity:1; fill:none\" points=\"419.034,1486.45 419.034,1467.55 \"/>\n",
       "<polyline clip-path=\"url(#clip610)\" style=\"stroke:#000000; stroke-linecap:round; stroke-linejoin:round; stroke-width:4; stroke-opacity:1; fill:none\" points=\"697.582,1486.45 697.582,1467.55 \"/>\n",
       "<polyline clip-path=\"url(#clip610)\" style=\"stroke:#000000; stroke-linecap:round; stroke-linejoin:round; stroke-width:4; stroke-opacity:1; fill:none\" points=\"976.129,1486.45 976.129,1467.55 \"/>\n",
       "<polyline clip-path=\"url(#clip610)\" style=\"stroke:#000000; stroke-linecap:round; stroke-linejoin:round; stroke-width:4; stroke-opacity:1; fill:none\" points=\"1254.68,1486.45 1254.68,1467.55 \"/>\n",
       "<polyline clip-path=\"url(#clip610)\" style=\"stroke:#000000; stroke-linecap:round; stroke-linejoin:round; stroke-width:4; stroke-opacity:1; fill:none\" points=\"1533.22,1486.45 1533.22,1467.55 \"/>\n",
       "<polyline clip-path=\"url(#clip610)\" style=\"stroke:#000000; stroke-linecap:round; stroke-linejoin:round; stroke-width:4; stroke-opacity:1; fill:none\" points=\"1811.77,1486.45 1811.77,1467.55 \"/>\n",
       "<polyline clip-path=\"url(#clip610)\" style=\"stroke:#000000; stroke-linecap:round; stroke-linejoin:round; stroke-width:4; stroke-opacity:1; fill:none\" points=\"2090.32,1486.45 2090.32,1467.55 \"/>\n",
       "<path clip-path=\"url(#clip610)\" d=\"M388.502 1532.02 L418.178 1532.02 L418.178 1535.95 L388.502 1535.95 L388.502 1532.02 Z\" fill=\"#000000\" fill-rule=\"nonzero\" fill-opacity=\"1\" /><path clip-path=\"url(#clip610)\" d=\"M442.437 1530.21 Q445.793 1530.93 447.668 1533.2 Q449.566 1535.47 449.566 1538.8 Q449.566 1543.92 446.048 1546.72 Q442.529 1549.52 436.048 1549.52 Q433.872 1549.52 431.557 1549.08 Q429.265 1548.66 426.812 1547.81 L426.812 1543.29 Q428.756 1544.43 431.071 1545.01 Q433.386 1545.58 435.909 1545.58 Q440.307 1545.58 442.599 1543.85 Q444.914 1542.11 444.914 1538.8 Q444.914 1535.75 442.761 1534.03 Q440.631 1532.3 436.812 1532.3 L432.784 1532.3 L432.784 1528.45 L436.997 1528.45 Q440.446 1528.45 442.275 1527.09 Q444.103 1525.7 444.103 1523.11 Q444.103 1520.45 442.205 1519.03 Q440.33 1517.6 436.812 1517.6 Q434.89 1517.6 432.691 1518.01 Q430.492 1518.43 427.853 1519.31 L427.853 1515.14 Q430.515 1514.4 432.83 1514.03 Q435.168 1513.66 437.228 1513.66 Q442.552 1513.66 445.654 1516.09 Q448.756 1518.5 448.756 1522.62 Q448.756 1525.49 447.113 1527.48 Q445.469 1529.45 442.437 1530.21 Z\" fill=\"#000000\" fill-rule=\"nonzero\" fill-opacity=\"1\" /><path clip-path=\"url(#clip610)\" d=\"M667.524 1532.02 L697.2 1532.02 L697.2 1535.95 L667.524 1535.95 L667.524 1532.02 Z\" fill=\"#000000\" fill-rule=\"nonzero\" fill-opacity=\"1\" /><path clip-path=\"url(#clip610)\" d=\"M711.32 1544.91 L727.639 1544.91 L727.639 1548.85 L705.695 1548.85 L705.695 1544.91 Q708.357 1542.16 712.94 1537.53 Q717.547 1532.88 718.727 1531.53 Q720.973 1529.01 721.852 1527.27 Q722.755 1525.51 722.755 1523.82 Q722.755 1521.07 720.811 1519.33 Q718.889 1517.6 715.788 1517.6 Q713.589 1517.6 711.135 1518.36 Q708.704 1519.13 705.927 1520.68 L705.927 1515.95 Q708.751 1514.82 711.204 1514.24 Q713.658 1513.66 715.695 1513.66 Q721.065 1513.66 724.26 1516.35 Q727.454 1519.03 727.454 1523.52 Q727.454 1525.65 726.644 1527.57 Q725.857 1529.47 723.751 1532.07 Q723.172 1532.74 720.07 1535.95 Q716.968 1539.15 711.32 1544.91 Z\" fill=\"#000000\" fill-rule=\"nonzero\" fill-opacity=\"1\" /><path clip-path=\"url(#clip610)\" d=\"M945.886 1532.02 L975.562 1532.02 L975.562 1535.95 L945.886 1535.95 L945.886 1532.02 Z\" fill=\"#000000\" fill-rule=\"nonzero\" fill-opacity=\"1\" /><path clip-path=\"url(#clip610)\" d=\"M986.465 1544.91 L994.104 1544.91 L994.104 1518.55 L985.794 1520.21 L985.794 1515.95 L994.058 1514.29 L998.733 1514.29 L998.733 1544.91 L1006.37 1544.91 L1006.37 1548.85 L986.465 1548.85 L986.465 1544.91 Z\" fill=\"#000000\" fill-rule=\"nonzero\" fill-opacity=\"1\" /><path clip-path=\"url(#clip610)\" d=\"M1254.68 1517.37 Q1251.07 1517.37 1249.24 1520.93 Q1247.43 1524.47 1247.43 1531.6 Q1247.43 1538.71 1249.24 1542.27 Q1251.07 1545.82 1254.68 1545.82 Q1258.31 1545.82 1260.12 1542.27 Q1261.95 1538.71 1261.95 1531.6 Q1261.95 1524.47 1260.12 1520.93 Q1258.31 1517.37 1254.68 1517.37 M1254.68 1513.66 Q1260.49 1513.66 1263.54 1518.27 Q1266.62 1522.85 1266.62 1531.6 Q1266.62 1540.33 1263.54 1544.94 Q1260.49 1549.52 1254.68 1549.52 Q1248.87 1549.52 1245.79 1544.94 Q1242.73 1540.33 1242.73 1531.6 Q1242.73 1522.85 1245.79 1518.27 Q1248.87 1513.66 1254.68 1513.66 Z\" fill=\"#000000\" fill-rule=\"nonzero\" fill-opacity=\"1\" /><path clip-path=\"url(#clip610)\" d=\"M1523.61 1544.91 L1531.25 1544.91 L1531.25 1518.55 L1522.94 1520.21 L1522.94 1515.95 L1531.2 1514.29 L1535.88 1514.29 L1535.88 1544.91 L1543.51 1544.91 L1543.51 1548.85 L1523.61 1548.85 L1523.61 1544.91 Z\" fill=\"#000000\" fill-rule=\"nonzero\" fill-opacity=\"1\" /><path clip-path=\"url(#clip610)\" d=\"M1806.43 1544.91 L1822.74 1544.91 L1822.74 1548.85 L1800.8 1548.85 L1800.8 1544.91 Q1803.46 1542.16 1808.05 1537.53 Q1812.65 1532.88 1813.83 1531.53 Q1816.08 1529.01 1816.96 1527.27 Q1817.86 1525.51 1817.86 1523.82 Q1817.86 1521.07 1815.92 1519.33 Q1813.99 1517.6 1810.89 1517.6 Q1808.69 1517.6 1806.24 1518.36 Q1803.81 1519.13 1801.03 1520.68 L1801.03 1515.95 Q1803.86 1514.82 1806.31 1514.24 Q1808.76 1513.66 1810.8 1513.66 Q1816.17 1513.66 1819.36 1516.35 Q1822.56 1519.03 1822.56 1523.52 Q1822.56 1525.65 1821.75 1527.57 Q1820.96 1529.47 1818.86 1532.07 Q1818.28 1532.74 1815.18 1535.95 Q1812.07 1539.15 1806.43 1544.91 Z\" fill=\"#000000\" fill-rule=\"nonzero\" fill-opacity=\"1\" /><path clip-path=\"url(#clip610)\" d=\"M2094.57 1530.21 Q2097.92 1530.93 2099.8 1533.2 Q2101.7 1535.47 2101.7 1538.8 Q2101.7 1543.92 2098.18 1546.72 Q2094.66 1549.52 2088.18 1549.52 Q2086 1549.52 2083.69 1549.08 Q2081.4 1548.66 2078.94 1547.81 L2078.94 1543.29 Q2080.89 1544.43 2083.2 1545.01 Q2085.52 1545.58 2088.04 1545.58 Q2092.44 1545.58 2094.73 1543.85 Q2097.04 1542.11 2097.04 1538.8 Q2097.04 1535.75 2094.89 1534.03 Q2092.76 1532.3 2088.94 1532.3 L2084.92 1532.3 L2084.92 1528.45 L2089.13 1528.45 Q2092.58 1528.45 2094.41 1527.09 Q2096.23 1525.7 2096.23 1523.11 Q2096.23 1520.45 2094.34 1519.03 Q2092.46 1517.6 2088.94 1517.6 Q2087.02 1517.6 2084.82 1518.01 Q2082.62 1518.43 2079.98 1519.31 L2079.98 1515.14 Q2082.65 1514.4 2084.96 1514.03 Q2087.3 1513.66 2089.36 1513.66 Q2094.68 1513.66 2097.79 1516.09 Q2100.89 1518.5 2100.89 1522.62 Q2100.89 1525.49 2099.24 1527.48 Q2097.6 1529.45 2094.57 1530.21 Z\" fill=\"#000000\" fill-rule=\"nonzero\" fill-opacity=\"1\" /><polyline clip-path=\"url(#clip612)\" style=\"stroke:#000000; stroke-linecap:round; stroke-linejoin:round; stroke-width:2; stroke-opacity:0.1; fill:none\" points=\"156.598,1447.06 2352.76,1447.06 \"/>\n",
       "<polyline clip-path=\"url(#clip612)\" style=\"stroke:#000000; stroke-linecap:round; stroke-linejoin:round; stroke-width:2; stroke-opacity:0.1; fill:none\" points=\"156.598,1106.35 2352.76,1106.35 \"/>\n",
       "<polyline clip-path=\"url(#clip612)\" style=\"stroke:#000000; stroke-linecap:round; stroke-linejoin:round; stroke-width:2; stroke-opacity:0.1; fill:none\" points=\"156.598,765.63 2352.76,765.63 \"/>\n",
       "<polyline clip-path=\"url(#clip612)\" style=\"stroke:#000000; stroke-linecap:round; stroke-linejoin:round; stroke-width:2; stroke-opacity:0.1; fill:none\" points=\"156.598,424.912 2352.76,424.912 \"/>\n",
       "<polyline clip-path=\"url(#clip612)\" style=\"stroke:#000000; stroke-linecap:round; stroke-linejoin:round; stroke-width:2; stroke-opacity:0.1; fill:none\" points=\"156.598,84.1949 2352.76,84.1949 \"/>\n",
       "<polyline clip-path=\"url(#clip610)\" style=\"stroke:#000000; stroke-linecap:round; stroke-linejoin:round; stroke-width:4; stroke-opacity:1; fill:none\" points=\"156.598,1486.45 156.598,47.2441 \"/>\n",
       "<polyline clip-path=\"url(#clip610)\" style=\"stroke:#000000; stroke-linecap:round; stroke-linejoin:round; stroke-width:4; stroke-opacity:1; fill:none\" points=\"156.598,1447.06 175.496,1447.06 \"/>\n",
       "<polyline clip-path=\"url(#clip610)\" style=\"stroke:#000000; stroke-linecap:round; stroke-linejoin:round; stroke-width:4; stroke-opacity:1; fill:none\" points=\"156.598,1106.35 175.496,1106.35 \"/>\n",
       "<polyline clip-path=\"url(#clip610)\" style=\"stroke:#000000; stroke-linecap:round; stroke-linejoin:round; stroke-width:4; stroke-opacity:1; fill:none\" points=\"156.598,765.63 175.496,765.63 \"/>\n",
       "<polyline clip-path=\"url(#clip610)\" style=\"stroke:#000000; stroke-linecap:round; stroke-linejoin:round; stroke-width:4; stroke-opacity:1; fill:none\" points=\"156.598,424.912 175.496,424.912 \"/>\n",
       "<polyline clip-path=\"url(#clip610)\" style=\"stroke:#000000; stroke-linecap:round; stroke-linejoin:round; stroke-width:4; stroke-opacity:1; fill:none\" points=\"156.598,84.1949 175.496,84.1949 \"/>\n",
       "<path clip-path=\"url(#clip610)\" d=\"M63.4226 1432.86 Q59.8115 1432.86 57.9828 1436.43 Q56.1773 1439.97 56.1773 1447.1 Q56.1773 1454.21 57.9828 1457.77 Q59.8115 1461.31 63.4226 1461.31 Q67.0569 1461.31 68.8624 1457.77 Q70.6911 1454.21 70.6911 1447.1 Q70.6911 1439.97 68.8624 1436.43 Q67.0569 1432.86 63.4226 1432.86 M63.4226 1429.16 Q69.2328 1429.16 72.2883 1433.77 Q75.367 1438.35 75.367 1447.1 Q75.367 1455.83 72.2883 1460.43 Q69.2328 1465.02 63.4226 1465.02 Q57.6125 1465.02 54.5338 1460.43 Q51.4782 1455.83 51.4782 1447.1 Q51.4782 1438.35 54.5338 1433.77 Q57.6125 1429.16 63.4226 1429.16 Z\" fill=\"#000000\" fill-rule=\"nonzero\" fill-opacity=\"1\" /><path clip-path=\"url(#clip610)\" d=\"M83.5845 1458.46 L88.4688 1458.46 L88.4688 1464.34 L83.5845 1464.34 L83.5845 1458.46 Z\" fill=\"#000000\" fill-rule=\"nonzero\" fill-opacity=\"1\" /><path clip-path=\"url(#clip610)\" d=\"M108.654 1432.86 Q105.043 1432.86 103.214 1436.43 Q101.409 1439.97 101.409 1447.1 Q101.409 1454.21 103.214 1457.77 Q105.043 1461.31 108.654 1461.31 Q112.288 1461.31 114.094 1457.77 Q115.922 1454.21 115.922 1447.1 Q115.922 1439.97 114.094 1436.43 Q112.288 1432.86 108.654 1432.86 M108.654 1429.16 Q114.464 1429.16 117.52 1433.77 Q120.598 1438.35 120.598 1447.1 Q120.598 1455.83 117.52 1460.43 Q114.464 1465.02 108.654 1465.02 Q102.844 1465.02 99.765 1460.43 Q96.7095 1455.83 96.7095 1447.1 Q96.7095 1438.35 99.765 1433.77 Q102.844 1429.16 108.654 1429.16 Z\" fill=\"#000000\" fill-rule=\"nonzero\" fill-opacity=\"1\" /><path clip-path=\"url(#clip610)\" d=\"M64.6495 1092.15 Q61.0384 1092.15 59.2097 1095.71 Q57.4041 1099.25 57.4041 1106.38 Q57.4041 1113.49 59.2097 1117.05 Q61.0384 1120.59 64.6495 1120.59 Q68.2837 1120.59 70.0892 1117.05 Q71.9179 1113.49 71.9179 1106.38 Q71.9179 1099.25 70.0892 1095.71 Q68.2837 1092.15 64.6495 1092.15 M64.6495 1088.44 Q70.4596 1088.44 73.5152 1093.05 Q76.5938 1097.63 76.5938 1106.38 Q76.5938 1115.11 73.5152 1119.72 Q70.4596 1124.3 64.6495 1124.3 Q58.8393 1124.3 55.7606 1119.72 Q52.7051 1115.11 52.7051 1106.38 Q52.7051 1097.63 55.7606 1093.05 Q58.8393 1088.44 64.6495 1088.44 Z\" fill=\"#000000\" fill-rule=\"nonzero\" fill-opacity=\"1\" /><path clip-path=\"url(#clip610)\" d=\"M84.8114 1117.75 L89.6956 1117.75 L89.6956 1123.63 L84.8114 1123.63 L84.8114 1117.75 Z\" fill=\"#000000\" fill-rule=\"nonzero\" fill-opacity=\"1\" /><path clip-path=\"url(#clip610)\" d=\"M100.691 1119.69 L108.33 1119.69 L108.33 1093.33 L100.02 1094.99 L100.02 1090.73 L108.283 1089.07 L112.959 1089.07 L112.959 1119.69 L120.598 1119.69 L120.598 1123.63 L100.691 1123.63 L100.691 1119.69 Z\" fill=\"#000000\" fill-rule=\"nonzero\" fill-opacity=\"1\" /><path clip-path=\"url(#clip610)\" d=\"M65.0198 751.428 Q61.4087 751.428 59.58 754.993 Q57.7745 758.535 57.7745 765.664 Q57.7745 772.771 59.58 776.336 Q61.4087 779.877 65.0198 779.877 Q68.6541 779.877 70.4596 776.336 Q72.2883 772.771 72.2883 765.664 Q72.2883 758.535 70.4596 754.993 Q68.6541 751.428 65.0198 751.428 M65.0198 747.725 Q70.83 747.725 73.8855 752.331 Q76.9642 756.914 76.9642 765.664 Q76.9642 774.391 73.8855 778.998 Q70.83 783.581 65.0198 783.581 Q59.2097 783.581 56.131 778.998 Q53.0754 774.391 53.0754 765.664 Q53.0754 756.914 56.131 752.331 Q59.2097 747.725 65.0198 747.725 Z\" fill=\"#000000\" fill-rule=\"nonzero\" fill-opacity=\"1\" /><path clip-path=\"url(#clip610)\" d=\"M85.1818 777.03 L90.066 777.03 L90.066 782.91 L85.1818 782.91 L85.1818 777.03 Z\" fill=\"#000000\" fill-rule=\"nonzero\" fill-opacity=\"1\" /><path clip-path=\"url(#clip610)\" d=\"M104.279 778.974 L120.598 778.974 L120.598 782.91 L98.6539 782.91 L98.6539 778.974 Q101.316 776.22 105.899 771.59 Q110.506 766.938 111.686 765.595 Q113.932 763.072 114.811 761.336 Q115.714 759.576 115.714 757.887 Q115.714 755.132 113.77 753.396 Q111.848 751.66 108.746 751.66 Q106.547 751.66 104.094 752.424 Q101.663 753.188 98.8854 754.739 L98.8854 750.016 Q101.709 748.882 104.163 748.303 Q106.617 747.725 108.654 747.725 Q114.024 747.725 117.219 750.41 Q120.413 753.095 120.413 757.586 Q120.413 759.715 119.603 761.637 Q118.816 763.535 116.709 766.127 Q116.131 766.799 113.029 770.016 Q109.927 773.211 104.279 778.974 Z\" fill=\"#000000\" fill-rule=\"nonzero\" fill-opacity=\"1\" /><path clip-path=\"url(#clip610)\" d=\"M64.0708 410.711 Q60.4597 410.711 58.631 414.276 Q56.8254 417.817 56.8254 424.947 Q56.8254 432.053 58.631 435.618 Q60.4597 439.16 64.0708 439.16 Q67.705 439.16 69.5105 435.618 Q71.3392 432.053 71.3392 424.947 Q71.3392 417.817 69.5105 414.276 Q67.705 410.711 64.0708 410.711 M64.0708 407.007 Q69.8809 407.007 72.9365 411.614 Q76.0151 416.197 76.0151 424.947 Q76.0151 433.674 72.9365 438.28 Q69.8809 442.864 64.0708 442.864 Q58.2606 442.864 55.1819 438.28 Q52.1264 433.674 52.1264 424.947 Q52.1264 416.197 55.1819 411.614 Q58.2606 407.007 64.0708 407.007 Z\" fill=\"#000000\" fill-rule=\"nonzero\" fill-opacity=\"1\" /><path clip-path=\"url(#clip610)\" d=\"M84.2327 436.313 L89.1169 436.313 L89.1169 442.192 L84.2327 442.192 L84.2327 436.313 Z\" fill=\"#000000\" fill-rule=\"nonzero\" fill-opacity=\"1\" /><path clip-path=\"url(#clip610)\" d=\"M113.469 423.558 Q116.825 424.276 118.7 426.544 Q120.598 428.813 120.598 432.146 Q120.598 437.262 117.08 440.063 Q113.561 442.864 107.08 442.864 Q104.904 442.864 102.589 442.424 Q100.297 442.007 97.8437 441.151 L97.8437 436.637 Q99.7882 437.771 102.103 438.35 Q104.418 438.928 106.941 438.928 Q111.339 438.928 113.631 437.192 Q115.945 435.456 115.945 432.146 Q115.945 429.09 113.793 427.378 Q111.663 425.641 107.844 425.641 L103.816 425.641 L103.816 421.799 L108.029 421.799 Q111.478 421.799 113.307 420.433 Q115.135 419.044 115.135 416.452 Q115.135 413.79 113.237 412.378 Q111.362 410.942 107.844 410.942 Q105.922 410.942 103.723 411.359 Q101.524 411.776 98.8854 412.655 L98.8854 408.489 Q101.547 407.748 103.862 407.378 Q106.2 407.007 108.26 407.007 Q113.584 407.007 116.686 409.438 Q119.788 411.845 119.788 415.966 Q119.788 418.836 118.145 420.827 Q116.501 422.794 113.469 423.558 Z\" fill=\"#000000\" fill-rule=\"nonzero\" fill-opacity=\"1\" /><path clip-path=\"url(#clip610)\" d=\"M62.9365 69.9936 Q59.3254 69.9936 57.4967 73.5584 Q55.6912 77.1 55.6912 84.2296 Q55.6912 91.3361 57.4967 94.9009 Q59.3254 98.4425 62.9365 98.4425 Q66.5707 98.4425 68.3763 94.9009 Q70.205 91.3361 70.205 84.2296 Q70.205 77.1 68.3763 73.5584 Q66.5707 69.9936 62.9365 69.9936 M62.9365 66.2899 Q68.7467 66.2899 71.8022 70.8964 Q74.8809 75.4797 74.8809 84.2296 Q74.8809 92.9564 71.8022 97.5629 Q68.7467 102.146 62.9365 102.146 Q57.1264 102.146 54.0477 97.5629 Q50.9921 92.9564 50.9921 84.2296 Q50.9921 75.4797 54.0477 70.8964 Q57.1264 66.2899 62.9365 66.2899 Z\" fill=\"#000000\" fill-rule=\"nonzero\" fill-opacity=\"1\" /><path clip-path=\"url(#clip610)\" d=\"M83.0984 95.5953 L87.9827 95.5953 L87.9827 101.475 L83.0984 101.475 L83.0984 95.5953 Z\" fill=\"#000000\" fill-rule=\"nonzero\" fill-opacity=\"1\" /><path clip-path=\"url(#clip610)\" d=\"M111.015 70.9889 L99.2095 89.4379 L111.015 89.4379 L111.015 70.9889 M109.788 66.9149 L115.668 66.9149 L115.668 89.4379 L120.598 89.4379 L120.598 93.3268 L115.668 93.3268 L115.668 101.475 L111.015 101.475 L111.015 93.3268 L95.4132 93.3268 L95.4132 88.8129 L109.788 66.9149 Z\" fill=\"#000000\" fill-rule=\"nonzero\" fill-opacity=\"1\" /><polyline clip-path=\"url(#clip612)\" style=\"stroke:#009af9; stroke-linecap:round; stroke-linejoin:round; stroke-width:4; stroke-opacity:1; fill:none\" points=\"218.754,1445.72 225.498,1445.59 232.242,1445.45 294.604,1443.49 356.966,1439.52 394.443,1435.52 431.92,1429.73 463.607,1422.97 495.293,1414 512.503,1408.01 529.713,1401.1 546.923,1393.19 564.133,1384.15 579.999,1374.73 595.866,1364.16 611.732,1352.36 627.598,1339.22 644.608,1323.56 661.618,1306.15 678.629,1286.88 695.639,1265.66 715.347,1238.51 735.055,1208.48 754.763,1175.5 774.471,1139.5 791.985,1104.97 809.499,1068.05 827.013,1028.82 844.528,987.337 859.886,949.213 875.244,909.564 890.603,868.52 905.961,826.231 939.45,730.584 972.94,632.068 1006.63,532.729 1040.32,436.176 1049.63,410.412 1058.94,385.178 1068.25,360.545 1077.56,336.582 1086.88,313.359 1096.19,290.942 1105.5,269.4 1114.81,248.795 1123.67,230.119 1132.53,212.402 1141.39,195.694 1150.25,180.041 1159.11,165.491 1167.97,152.084 1176.83,139.86 1185.69,128.855 1194.9,118.74 1204.11,110.01 1213.33,102.694 1222.54,96.8164 1231.75,92.3952 1240.96,89.4453 1250.17,87.9763 1259.39,87.993 1267.14,89.159 1274.9,91.3751 1282.65,94.6361 1290.41,98.9347 1298.16,104.261 1305.92,110.602 1313.67,117.944 1321.42,126.269 1330.89,137.74 1340.36,150.609 1349.83,164.834 1359.3,180.367 1368.76,197.157 1378.23,215.149 1387.7,234.283 1397.17,254.498 1414.51,294.127 1431.86,336.752 1440.53,359.053 1449.2,381.94 1457.88,405.355 1466.55,429.243 1498.59,520.66 1530.63,614.95 1563.09,710.683 1595.54,804.19 1613.73,854.821 1631.92,903.785 1650.1,950.822 1668.29,995.714 1684.77,1034.4 1701.25,1071.09 1717.73,1105.71 1734.21,1138.23 1753.08,1172.85 1771.95,1204.71 1790.82,1233.85 1809.69,1260.34 1827.16,1282.6 1844.63,1302.78 1862.1,1320.97 1879.57,1337.31 1896.8,1351.71 1914.02,1364.53 1931.25,1375.91 1948.47,1385.95 1965.19,1394.53 1981.92,1402.07 1998.64,1408.67 2015.36,1414.42 2049.65,1423.91 2083.94,1430.89 2121.5,1436.34 2159.07,1440.08 2213.64,1443.44 2268.21,1445.25 2279.41,1445.5 2290.6,1445.72 \"/>\n",
       "<path clip-path=\"url(#clip610)\" d=\"M2007.5 198.898 L2279.55 198.898 L2279.55 95.2176 L2007.5 95.2176  Z\" fill=\"#ffffff\" fill-rule=\"evenodd\" fill-opacity=\"1\"/>\n",
       "<polyline clip-path=\"url(#clip610)\" style=\"stroke:#000000; stroke-linecap:round; stroke-linejoin:round; stroke-width:4; stroke-opacity:1; fill:none\" points=\"2007.5,198.898 2279.55,198.898 2279.55,95.2176 2007.5,95.2176 2007.5,198.898 \"/>\n",
       "<polyline clip-path=\"url(#clip610)\" style=\"stroke:#009af9; stroke-linecap:round; stroke-linejoin:round; stroke-width:4; stroke-opacity:1; fill:none\" points=\"2031.91,147.058 2178.32,147.058 \"/>\n",
       "<path clip-path=\"url(#clip610)\" d=\"M2216.56 166.745 Q2214.76 171.375 2213.04 172.787 Q2211.33 174.199 2208.46 174.199 L2205.06 174.199 L2205.06 170.634 L2207.56 170.634 Q2209.32 170.634 2210.29 169.8 Q2211.26 168.967 2212.44 165.865 L2213.2 163.921 L2202.72 138.412 L2207.23 138.412 L2215.33 158.689 L2223.44 138.412 L2227.95 138.412 L2216.56 166.745 Z\" fill=\"#000000\" fill-rule=\"nonzero\" fill-opacity=\"1\" /><path clip-path=\"url(#clip610)\" d=\"M2235.24 160.402 L2242.88 160.402 L2242.88 134.037 L2234.57 135.703 L2234.57 131.444 L2242.83 129.778 L2247.51 129.778 L2247.51 160.402 L2255.15 160.402 L2255.15 164.338 L2235.24 164.338 L2235.24 160.402 Z\" fill=\"#000000\" fill-rule=\"nonzero\" fill-opacity=\"1\" /></svg>\n"
      ],
      "text/html": [
       "<?xml version=\"1.0\" encoding=\"utf-8\"?>\n",
       "<svg xmlns=\"http://www.w3.org/2000/svg\" xmlns:xlink=\"http://www.w3.org/1999/xlink\" width=\"600\" height=\"400\" viewBox=\"0 0 2400 1600\">\n",
       "<defs>\n",
       "  <clipPath id=\"clip660\">\n",
       "    <rect x=\"0\" y=\"0\" width=\"2400\" height=\"1600\"/>\n",
       "  </clipPath>\n",
       "</defs>\n",
       "<path clip-path=\"url(#clip660)\" d=\"M0 1600 L2400 1600 L2400 0 L0 0  Z\" fill=\"#ffffff\" fill-rule=\"evenodd\" fill-opacity=\"1\"/>\n",
       "<defs>\n",
       "  <clipPath id=\"clip661\">\n",
       "    <rect x=\"480\" y=\"0\" width=\"1681\" height=\"1600\"/>\n",
       "  </clipPath>\n",
       "</defs>\n",
       "<path clip-path=\"url(#clip660)\" d=\"M156.598 1486.45 L2352.76 1486.45 L2352.76 47.2441 L156.598 47.2441  Z\" fill=\"#ffffff\" fill-rule=\"evenodd\" fill-opacity=\"1\"/>\n",
       "<defs>\n",
       "  <clipPath id=\"clip662\">\n",
       "    <rect x=\"156\" y=\"47\" width=\"2197\" height=\"1440\"/>\n",
       "  </clipPath>\n",
       "</defs>\n",
       "<polyline clip-path=\"url(#clip662)\" style=\"stroke:#000000; stroke-linecap:round; stroke-linejoin:round; stroke-width:2; stroke-opacity:0.1; fill:none\" points=\"419.034,1486.45 419.034,47.2441 \"/>\n",
       "<polyline clip-path=\"url(#clip662)\" style=\"stroke:#000000; stroke-linecap:round; stroke-linejoin:round; stroke-width:2; stroke-opacity:0.1; fill:none\" points=\"697.582,1486.45 697.582,47.2441 \"/>\n",
       "<polyline clip-path=\"url(#clip662)\" style=\"stroke:#000000; stroke-linecap:round; stroke-linejoin:round; stroke-width:2; stroke-opacity:0.1; fill:none\" points=\"976.129,1486.45 976.129,47.2441 \"/>\n",
       "<polyline clip-path=\"url(#clip662)\" style=\"stroke:#000000; stroke-linecap:round; stroke-linejoin:round; stroke-width:2; stroke-opacity:0.1; fill:none\" points=\"1254.68,1486.45 1254.68,47.2441 \"/>\n",
       "<polyline clip-path=\"url(#clip662)\" style=\"stroke:#000000; stroke-linecap:round; stroke-linejoin:round; stroke-width:2; stroke-opacity:0.1; fill:none\" points=\"1533.22,1486.45 1533.22,47.2441 \"/>\n",
       "<polyline clip-path=\"url(#clip662)\" style=\"stroke:#000000; stroke-linecap:round; stroke-linejoin:round; stroke-width:2; stroke-opacity:0.1; fill:none\" points=\"1811.77,1486.45 1811.77,47.2441 \"/>\n",
       "<polyline clip-path=\"url(#clip662)\" style=\"stroke:#000000; stroke-linecap:round; stroke-linejoin:round; stroke-width:2; stroke-opacity:0.1; fill:none\" points=\"2090.32,1486.45 2090.32,47.2441 \"/>\n",
       "<polyline clip-path=\"url(#clip660)\" style=\"stroke:#000000; stroke-linecap:round; stroke-linejoin:round; stroke-width:4; stroke-opacity:1; fill:none\" points=\"156.598,1486.45 2352.76,1486.45 \"/>\n",
       "<polyline clip-path=\"url(#clip660)\" style=\"stroke:#000000; stroke-linecap:round; stroke-linejoin:round; stroke-width:4; stroke-opacity:1; fill:none\" points=\"419.034,1486.45 419.034,1467.55 \"/>\n",
       "<polyline clip-path=\"url(#clip660)\" style=\"stroke:#000000; stroke-linecap:round; stroke-linejoin:round; stroke-width:4; stroke-opacity:1; fill:none\" points=\"697.582,1486.45 697.582,1467.55 \"/>\n",
       "<polyline clip-path=\"url(#clip660)\" style=\"stroke:#000000; stroke-linecap:round; stroke-linejoin:round; stroke-width:4; stroke-opacity:1; fill:none\" points=\"976.129,1486.45 976.129,1467.55 \"/>\n",
       "<polyline clip-path=\"url(#clip660)\" style=\"stroke:#000000; stroke-linecap:round; stroke-linejoin:round; stroke-width:4; stroke-opacity:1; fill:none\" points=\"1254.68,1486.45 1254.68,1467.55 \"/>\n",
       "<polyline clip-path=\"url(#clip660)\" style=\"stroke:#000000; stroke-linecap:round; stroke-linejoin:round; stroke-width:4; stroke-opacity:1; fill:none\" points=\"1533.22,1486.45 1533.22,1467.55 \"/>\n",
       "<polyline clip-path=\"url(#clip660)\" style=\"stroke:#000000; stroke-linecap:round; stroke-linejoin:round; stroke-width:4; stroke-opacity:1; fill:none\" points=\"1811.77,1486.45 1811.77,1467.55 \"/>\n",
       "<polyline clip-path=\"url(#clip660)\" style=\"stroke:#000000; stroke-linecap:round; stroke-linejoin:round; stroke-width:4; stroke-opacity:1; fill:none\" points=\"2090.32,1486.45 2090.32,1467.55 \"/>\n",
       "<path clip-path=\"url(#clip660)\" d=\"M388.502 1532.02 L418.178 1532.02 L418.178 1535.95 L388.502 1535.95 L388.502 1532.02 Z\" fill=\"#000000\" fill-rule=\"nonzero\" fill-opacity=\"1\" /><path clip-path=\"url(#clip660)\" d=\"M442.437 1530.21 Q445.793 1530.93 447.668 1533.2 Q449.566 1535.47 449.566 1538.8 Q449.566 1543.92 446.048 1546.72 Q442.529 1549.52 436.048 1549.52 Q433.872 1549.52 431.557 1549.08 Q429.265 1548.66 426.812 1547.81 L426.812 1543.29 Q428.756 1544.43 431.071 1545.01 Q433.386 1545.58 435.909 1545.58 Q440.307 1545.58 442.599 1543.85 Q444.914 1542.11 444.914 1538.8 Q444.914 1535.75 442.761 1534.03 Q440.631 1532.3 436.812 1532.3 L432.784 1532.3 L432.784 1528.45 L436.997 1528.45 Q440.446 1528.45 442.275 1527.09 Q444.103 1525.7 444.103 1523.11 Q444.103 1520.45 442.205 1519.03 Q440.33 1517.6 436.812 1517.6 Q434.89 1517.6 432.691 1518.01 Q430.492 1518.43 427.853 1519.31 L427.853 1515.14 Q430.515 1514.4 432.83 1514.03 Q435.168 1513.66 437.228 1513.66 Q442.552 1513.66 445.654 1516.09 Q448.756 1518.5 448.756 1522.62 Q448.756 1525.49 447.113 1527.48 Q445.469 1529.45 442.437 1530.21 Z\" fill=\"#000000\" fill-rule=\"nonzero\" fill-opacity=\"1\" /><path clip-path=\"url(#clip660)\" d=\"M667.524 1532.02 L697.2 1532.02 L697.2 1535.95 L667.524 1535.95 L667.524 1532.02 Z\" fill=\"#000000\" fill-rule=\"nonzero\" fill-opacity=\"1\" /><path clip-path=\"url(#clip660)\" d=\"M711.32 1544.91 L727.639 1544.91 L727.639 1548.85 L705.695 1548.85 L705.695 1544.91 Q708.357 1542.16 712.94 1537.53 Q717.547 1532.88 718.727 1531.53 Q720.973 1529.01 721.852 1527.27 Q722.755 1525.51 722.755 1523.82 Q722.755 1521.07 720.811 1519.33 Q718.889 1517.6 715.788 1517.6 Q713.589 1517.6 711.135 1518.36 Q708.704 1519.13 705.927 1520.68 L705.927 1515.95 Q708.751 1514.82 711.204 1514.24 Q713.658 1513.66 715.695 1513.66 Q721.065 1513.66 724.26 1516.35 Q727.454 1519.03 727.454 1523.52 Q727.454 1525.65 726.644 1527.57 Q725.857 1529.47 723.751 1532.07 Q723.172 1532.74 720.07 1535.95 Q716.968 1539.15 711.32 1544.91 Z\" fill=\"#000000\" fill-rule=\"nonzero\" fill-opacity=\"1\" /><path clip-path=\"url(#clip660)\" d=\"M945.886 1532.02 L975.562 1532.02 L975.562 1535.95 L945.886 1535.95 L945.886 1532.02 Z\" fill=\"#000000\" fill-rule=\"nonzero\" fill-opacity=\"1\" /><path clip-path=\"url(#clip660)\" d=\"M986.465 1544.91 L994.104 1544.91 L994.104 1518.55 L985.794 1520.21 L985.794 1515.95 L994.058 1514.29 L998.733 1514.29 L998.733 1544.91 L1006.37 1544.91 L1006.37 1548.85 L986.465 1548.85 L986.465 1544.91 Z\" fill=\"#000000\" fill-rule=\"nonzero\" fill-opacity=\"1\" /><path clip-path=\"url(#clip660)\" d=\"M1254.68 1517.37 Q1251.07 1517.37 1249.24 1520.93 Q1247.43 1524.47 1247.43 1531.6 Q1247.43 1538.71 1249.24 1542.27 Q1251.07 1545.82 1254.68 1545.82 Q1258.31 1545.82 1260.12 1542.27 Q1261.95 1538.71 1261.95 1531.6 Q1261.95 1524.47 1260.12 1520.93 Q1258.31 1517.37 1254.68 1517.37 M1254.68 1513.66 Q1260.49 1513.66 1263.54 1518.27 Q1266.62 1522.85 1266.62 1531.6 Q1266.62 1540.33 1263.54 1544.94 Q1260.49 1549.52 1254.68 1549.52 Q1248.87 1549.52 1245.79 1544.94 Q1242.73 1540.33 1242.73 1531.6 Q1242.73 1522.85 1245.79 1518.27 Q1248.87 1513.66 1254.68 1513.66 Z\" fill=\"#000000\" fill-rule=\"nonzero\" fill-opacity=\"1\" /><path clip-path=\"url(#clip660)\" d=\"M1523.61 1544.91 L1531.25 1544.91 L1531.25 1518.55 L1522.94 1520.21 L1522.94 1515.95 L1531.2 1514.29 L1535.88 1514.29 L1535.88 1544.91 L1543.51 1544.91 L1543.51 1548.85 L1523.61 1548.85 L1523.61 1544.91 Z\" fill=\"#000000\" fill-rule=\"nonzero\" fill-opacity=\"1\" /><path clip-path=\"url(#clip660)\" d=\"M1806.43 1544.91 L1822.74 1544.91 L1822.74 1548.85 L1800.8 1548.85 L1800.8 1544.91 Q1803.46 1542.16 1808.05 1537.53 Q1812.65 1532.88 1813.83 1531.53 Q1816.08 1529.01 1816.96 1527.27 Q1817.86 1525.51 1817.86 1523.82 Q1817.86 1521.07 1815.92 1519.33 Q1813.99 1517.6 1810.89 1517.6 Q1808.69 1517.6 1806.24 1518.36 Q1803.81 1519.13 1801.03 1520.68 L1801.03 1515.95 Q1803.86 1514.82 1806.31 1514.24 Q1808.76 1513.66 1810.8 1513.66 Q1816.17 1513.66 1819.36 1516.35 Q1822.56 1519.03 1822.56 1523.52 Q1822.56 1525.65 1821.75 1527.57 Q1820.96 1529.47 1818.86 1532.07 Q1818.28 1532.74 1815.18 1535.95 Q1812.07 1539.15 1806.43 1544.91 Z\" fill=\"#000000\" fill-rule=\"nonzero\" fill-opacity=\"1\" /><path clip-path=\"url(#clip660)\" d=\"M2094.57 1530.21 Q2097.92 1530.93 2099.8 1533.2 Q2101.7 1535.47 2101.7 1538.8 Q2101.7 1543.92 2098.18 1546.72 Q2094.66 1549.52 2088.18 1549.52 Q2086 1549.52 2083.69 1549.08 Q2081.4 1548.66 2078.94 1547.81 L2078.94 1543.29 Q2080.89 1544.43 2083.2 1545.01 Q2085.52 1545.58 2088.04 1545.58 Q2092.44 1545.58 2094.73 1543.85 Q2097.04 1542.11 2097.04 1538.8 Q2097.04 1535.75 2094.89 1534.03 Q2092.76 1532.3 2088.94 1532.3 L2084.92 1532.3 L2084.92 1528.45 L2089.13 1528.45 Q2092.58 1528.45 2094.41 1527.09 Q2096.23 1525.7 2096.23 1523.11 Q2096.23 1520.45 2094.34 1519.03 Q2092.46 1517.6 2088.94 1517.6 Q2087.02 1517.6 2084.82 1518.01 Q2082.62 1518.43 2079.98 1519.31 L2079.98 1515.14 Q2082.65 1514.4 2084.96 1514.03 Q2087.3 1513.66 2089.36 1513.66 Q2094.68 1513.66 2097.79 1516.09 Q2100.89 1518.5 2100.89 1522.62 Q2100.89 1525.49 2099.24 1527.48 Q2097.6 1529.45 2094.57 1530.21 Z\" fill=\"#000000\" fill-rule=\"nonzero\" fill-opacity=\"1\" /><polyline clip-path=\"url(#clip662)\" style=\"stroke:#000000; stroke-linecap:round; stroke-linejoin:round; stroke-width:2; stroke-opacity:0.1; fill:none\" points=\"156.598,1447.06 2352.76,1447.06 \"/>\n",
       "<polyline clip-path=\"url(#clip662)\" style=\"stroke:#000000; stroke-linecap:round; stroke-linejoin:round; stroke-width:2; stroke-opacity:0.1; fill:none\" points=\"156.598,1106.35 2352.76,1106.35 \"/>\n",
       "<polyline clip-path=\"url(#clip662)\" style=\"stroke:#000000; stroke-linecap:round; stroke-linejoin:round; stroke-width:2; stroke-opacity:0.1; fill:none\" points=\"156.598,765.63 2352.76,765.63 \"/>\n",
       "<polyline clip-path=\"url(#clip662)\" style=\"stroke:#000000; stroke-linecap:round; stroke-linejoin:round; stroke-width:2; stroke-opacity:0.1; fill:none\" points=\"156.598,424.912 2352.76,424.912 \"/>\n",
       "<polyline clip-path=\"url(#clip662)\" style=\"stroke:#000000; stroke-linecap:round; stroke-linejoin:round; stroke-width:2; stroke-opacity:0.1; fill:none\" points=\"156.598,84.1949 2352.76,84.1949 \"/>\n",
       "<polyline clip-path=\"url(#clip660)\" style=\"stroke:#000000; stroke-linecap:round; stroke-linejoin:round; stroke-width:4; stroke-opacity:1; fill:none\" points=\"156.598,1486.45 156.598,47.2441 \"/>\n",
       "<polyline clip-path=\"url(#clip660)\" style=\"stroke:#000000; stroke-linecap:round; stroke-linejoin:round; stroke-width:4; stroke-opacity:1; fill:none\" points=\"156.598,1447.06 175.496,1447.06 \"/>\n",
       "<polyline clip-path=\"url(#clip660)\" style=\"stroke:#000000; stroke-linecap:round; stroke-linejoin:round; stroke-width:4; stroke-opacity:1; fill:none\" points=\"156.598,1106.35 175.496,1106.35 \"/>\n",
       "<polyline clip-path=\"url(#clip660)\" style=\"stroke:#000000; stroke-linecap:round; stroke-linejoin:round; stroke-width:4; stroke-opacity:1; fill:none\" points=\"156.598,765.63 175.496,765.63 \"/>\n",
       "<polyline clip-path=\"url(#clip660)\" style=\"stroke:#000000; stroke-linecap:round; stroke-linejoin:round; stroke-width:4; stroke-opacity:1; fill:none\" points=\"156.598,424.912 175.496,424.912 \"/>\n",
       "<polyline clip-path=\"url(#clip660)\" style=\"stroke:#000000; stroke-linecap:round; stroke-linejoin:round; stroke-width:4; stroke-opacity:1; fill:none\" points=\"156.598,84.1949 175.496,84.1949 \"/>\n",
       "<path clip-path=\"url(#clip660)\" d=\"M63.4226 1432.86 Q59.8115 1432.86 57.9828 1436.43 Q56.1773 1439.97 56.1773 1447.1 Q56.1773 1454.21 57.9828 1457.77 Q59.8115 1461.31 63.4226 1461.31 Q67.0569 1461.31 68.8624 1457.77 Q70.6911 1454.21 70.6911 1447.1 Q70.6911 1439.97 68.8624 1436.43 Q67.0569 1432.86 63.4226 1432.86 M63.4226 1429.16 Q69.2328 1429.16 72.2883 1433.77 Q75.367 1438.35 75.367 1447.1 Q75.367 1455.83 72.2883 1460.43 Q69.2328 1465.02 63.4226 1465.02 Q57.6125 1465.02 54.5338 1460.43 Q51.4782 1455.83 51.4782 1447.1 Q51.4782 1438.35 54.5338 1433.77 Q57.6125 1429.16 63.4226 1429.16 Z\" fill=\"#000000\" fill-rule=\"nonzero\" fill-opacity=\"1\" /><path clip-path=\"url(#clip660)\" d=\"M83.5845 1458.46 L88.4688 1458.46 L88.4688 1464.34 L83.5845 1464.34 L83.5845 1458.46 Z\" fill=\"#000000\" fill-rule=\"nonzero\" fill-opacity=\"1\" /><path clip-path=\"url(#clip660)\" d=\"M108.654 1432.86 Q105.043 1432.86 103.214 1436.43 Q101.409 1439.97 101.409 1447.1 Q101.409 1454.21 103.214 1457.77 Q105.043 1461.31 108.654 1461.31 Q112.288 1461.31 114.094 1457.77 Q115.922 1454.21 115.922 1447.1 Q115.922 1439.97 114.094 1436.43 Q112.288 1432.86 108.654 1432.86 M108.654 1429.16 Q114.464 1429.16 117.52 1433.77 Q120.598 1438.35 120.598 1447.1 Q120.598 1455.83 117.52 1460.43 Q114.464 1465.02 108.654 1465.02 Q102.844 1465.02 99.765 1460.43 Q96.7095 1455.83 96.7095 1447.1 Q96.7095 1438.35 99.765 1433.77 Q102.844 1429.16 108.654 1429.16 Z\" fill=\"#000000\" fill-rule=\"nonzero\" fill-opacity=\"1\" /><path clip-path=\"url(#clip660)\" d=\"M64.6495 1092.15 Q61.0384 1092.15 59.2097 1095.71 Q57.4041 1099.25 57.4041 1106.38 Q57.4041 1113.49 59.2097 1117.05 Q61.0384 1120.59 64.6495 1120.59 Q68.2837 1120.59 70.0892 1117.05 Q71.9179 1113.49 71.9179 1106.38 Q71.9179 1099.25 70.0892 1095.71 Q68.2837 1092.15 64.6495 1092.15 M64.6495 1088.44 Q70.4596 1088.44 73.5152 1093.05 Q76.5938 1097.63 76.5938 1106.38 Q76.5938 1115.11 73.5152 1119.72 Q70.4596 1124.3 64.6495 1124.3 Q58.8393 1124.3 55.7606 1119.72 Q52.7051 1115.11 52.7051 1106.38 Q52.7051 1097.63 55.7606 1093.05 Q58.8393 1088.44 64.6495 1088.44 Z\" fill=\"#000000\" fill-rule=\"nonzero\" fill-opacity=\"1\" /><path clip-path=\"url(#clip660)\" d=\"M84.8114 1117.75 L89.6956 1117.75 L89.6956 1123.63 L84.8114 1123.63 L84.8114 1117.75 Z\" fill=\"#000000\" fill-rule=\"nonzero\" fill-opacity=\"1\" /><path clip-path=\"url(#clip660)\" d=\"M100.691 1119.69 L108.33 1119.69 L108.33 1093.33 L100.02 1094.99 L100.02 1090.73 L108.283 1089.07 L112.959 1089.07 L112.959 1119.69 L120.598 1119.69 L120.598 1123.63 L100.691 1123.63 L100.691 1119.69 Z\" fill=\"#000000\" fill-rule=\"nonzero\" fill-opacity=\"1\" /><path clip-path=\"url(#clip660)\" d=\"M65.0198 751.428 Q61.4087 751.428 59.58 754.993 Q57.7745 758.535 57.7745 765.664 Q57.7745 772.771 59.58 776.336 Q61.4087 779.877 65.0198 779.877 Q68.6541 779.877 70.4596 776.336 Q72.2883 772.771 72.2883 765.664 Q72.2883 758.535 70.4596 754.993 Q68.6541 751.428 65.0198 751.428 M65.0198 747.725 Q70.83 747.725 73.8855 752.331 Q76.9642 756.914 76.9642 765.664 Q76.9642 774.391 73.8855 778.998 Q70.83 783.581 65.0198 783.581 Q59.2097 783.581 56.131 778.998 Q53.0754 774.391 53.0754 765.664 Q53.0754 756.914 56.131 752.331 Q59.2097 747.725 65.0198 747.725 Z\" fill=\"#000000\" fill-rule=\"nonzero\" fill-opacity=\"1\" /><path clip-path=\"url(#clip660)\" d=\"M85.1818 777.03 L90.066 777.03 L90.066 782.91 L85.1818 782.91 L85.1818 777.03 Z\" fill=\"#000000\" fill-rule=\"nonzero\" fill-opacity=\"1\" /><path clip-path=\"url(#clip660)\" d=\"M104.279 778.974 L120.598 778.974 L120.598 782.91 L98.6539 782.91 L98.6539 778.974 Q101.316 776.22 105.899 771.59 Q110.506 766.938 111.686 765.595 Q113.932 763.072 114.811 761.336 Q115.714 759.576 115.714 757.887 Q115.714 755.132 113.77 753.396 Q111.848 751.66 108.746 751.66 Q106.547 751.66 104.094 752.424 Q101.663 753.188 98.8854 754.739 L98.8854 750.016 Q101.709 748.882 104.163 748.303 Q106.617 747.725 108.654 747.725 Q114.024 747.725 117.219 750.41 Q120.413 753.095 120.413 757.586 Q120.413 759.715 119.603 761.637 Q118.816 763.535 116.709 766.127 Q116.131 766.799 113.029 770.016 Q109.927 773.211 104.279 778.974 Z\" fill=\"#000000\" fill-rule=\"nonzero\" fill-opacity=\"1\" /><path clip-path=\"url(#clip660)\" d=\"M64.0708 410.711 Q60.4597 410.711 58.631 414.276 Q56.8254 417.817 56.8254 424.947 Q56.8254 432.053 58.631 435.618 Q60.4597 439.16 64.0708 439.16 Q67.705 439.16 69.5105 435.618 Q71.3392 432.053 71.3392 424.947 Q71.3392 417.817 69.5105 414.276 Q67.705 410.711 64.0708 410.711 M64.0708 407.007 Q69.8809 407.007 72.9365 411.614 Q76.0151 416.197 76.0151 424.947 Q76.0151 433.674 72.9365 438.28 Q69.8809 442.864 64.0708 442.864 Q58.2606 442.864 55.1819 438.28 Q52.1264 433.674 52.1264 424.947 Q52.1264 416.197 55.1819 411.614 Q58.2606 407.007 64.0708 407.007 Z\" fill=\"#000000\" fill-rule=\"nonzero\" fill-opacity=\"1\" /><path clip-path=\"url(#clip660)\" d=\"M84.2327 436.313 L89.1169 436.313 L89.1169 442.192 L84.2327 442.192 L84.2327 436.313 Z\" fill=\"#000000\" fill-rule=\"nonzero\" fill-opacity=\"1\" /><path clip-path=\"url(#clip660)\" d=\"M113.469 423.558 Q116.825 424.276 118.7 426.544 Q120.598 428.813 120.598 432.146 Q120.598 437.262 117.08 440.063 Q113.561 442.864 107.08 442.864 Q104.904 442.864 102.589 442.424 Q100.297 442.007 97.8437 441.151 L97.8437 436.637 Q99.7882 437.771 102.103 438.35 Q104.418 438.928 106.941 438.928 Q111.339 438.928 113.631 437.192 Q115.945 435.456 115.945 432.146 Q115.945 429.09 113.793 427.378 Q111.663 425.641 107.844 425.641 L103.816 425.641 L103.816 421.799 L108.029 421.799 Q111.478 421.799 113.307 420.433 Q115.135 419.044 115.135 416.452 Q115.135 413.79 113.237 412.378 Q111.362 410.942 107.844 410.942 Q105.922 410.942 103.723 411.359 Q101.524 411.776 98.8854 412.655 L98.8854 408.489 Q101.547 407.748 103.862 407.378 Q106.2 407.007 108.26 407.007 Q113.584 407.007 116.686 409.438 Q119.788 411.845 119.788 415.966 Q119.788 418.836 118.145 420.827 Q116.501 422.794 113.469 423.558 Z\" fill=\"#000000\" fill-rule=\"nonzero\" fill-opacity=\"1\" /><path clip-path=\"url(#clip660)\" d=\"M62.9365 69.9936 Q59.3254 69.9936 57.4967 73.5584 Q55.6912 77.1 55.6912 84.2296 Q55.6912 91.3361 57.4967 94.9009 Q59.3254 98.4425 62.9365 98.4425 Q66.5707 98.4425 68.3763 94.9009 Q70.205 91.3361 70.205 84.2296 Q70.205 77.1 68.3763 73.5584 Q66.5707 69.9936 62.9365 69.9936 M62.9365 66.2899 Q68.7467 66.2899 71.8022 70.8964 Q74.8809 75.4797 74.8809 84.2296 Q74.8809 92.9564 71.8022 97.5629 Q68.7467 102.146 62.9365 102.146 Q57.1264 102.146 54.0477 97.5629 Q50.9921 92.9564 50.9921 84.2296 Q50.9921 75.4797 54.0477 70.8964 Q57.1264 66.2899 62.9365 66.2899 Z\" fill=\"#000000\" fill-rule=\"nonzero\" fill-opacity=\"1\" /><path clip-path=\"url(#clip660)\" d=\"M83.0984 95.5953 L87.9827 95.5953 L87.9827 101.475 L83.0984 101.475 L83.0984 95.5953 Z\" fill=\"#000000\" fill-rule=\"nonzero\" fill-opacity=\"1\" /><path clip-path=\"url(#clip660)\" d=\"M111.015 70.9889 L99.2095 89.4379 L111.015 89.4379 L111.015 70.9889 M109.788 66.9149 L115.668 66.9149 L115.668 89.4379 L120.598 89.4379 L120.598 93.3268 L115.668 93.3268 L115.668 101.475 L111.015 101.475 L111.015 93.3268 L95.4132 93.3268 L95.4132 88.8129 L109.788 66.9149 Z\" fill=\"#000000\" fill-rule=\"nonzero\" fill-opacity=\"1\" /><polyline clip-path=\"url(#clip662)\" style=\"stroke:#009af9; stroke-linecap:round; stroke-linejoin:round; stroke-width:4; stroke-opacity:1; fill:none\" points=\"218.754,1445.72 225.498,1445.59 232.242,1445.45 294.604,1443.49 356.966,1439.52 394.443,1435.52 431.92,1429.73 463.607,1422.97 495.293,1414 512.503,1408.01 529.713,1401.1 546.923,1393.19 564.133,1384.15 579.999,1374.73 595.866,1364.16 611.732,1352.36 627.598,1339.22 644.608,1323.56 661.618,1306.15 678.629,1286.88 695.639,1265.66 715.347,1238.51 735.055,1208.48 754.763,1175.5 774.471,1139.5 791.985,1104.97 809.499,1068.05 827.013,1028.82 844.528,987.337 859.886,949.213 875.244,909.564 890.603,868.52 905.961,826.231 939.45,730.584 972.94,632.068 1006.63,532.729 1040.32,436.176 1049.63,410.412 1058.94,385.178 1068.25,360.545 1077.56,336.582 1086.88,313.359 1096.19,290.942 1105.5,269.4 1114.81,248.795 1123.67,230.119 1132.53,212.402 1141.39,195.694 1150.25,180.041 1159.11,165.491 1167.97,152.084 1176.83,139.86 1185.69,128.855 1194.9,118.74 1204.11,110.01 1213.33,102.694 1222.54,96.8164 1231.75,92.3952 1240.96,89.4453 1250.17,87.9763 1259.39,87.993 1267.14,89.159 1274.9,91.3751 1282.65,94.6361 1290.41,98.9347 1298.16,104.261 1305.92,110.602 1313.67,117.944 1321.42,126.269 1330.89,137.74 1340.36,150.609 1349.83,164.834 1359.3,180.367 1368.76,197.157 1378.23,215.149 1387.7,234.283 1397.17,254.498 1414.51,294.127 1431.86,336.752 1440.53,359.053 1449.2,381.94 1457.88,405.355 1466.55,429.243 1498.59,520.66 1530.63,614.95 1563.09,710.683 1595.54,804.19 1613.73,854.821 1631.92,903.785 1650.1,950.822 1668.29,995.714 1684.77,1034.4 1701.25,1071.09 1717.73,1105.71 1734.21,1138.23 1753.08,1172.85 1771.95,1204.71 1790.82,1233.85 1809.69,1260.34 1827.16,1282.6 1844.63,1302.78 1862.1,1320.97 1879.57,1337.31 1896.8,1351.71 1914.02,1364.53 1931.25,1375.91 1948.47,1385.95 1965.19,1394.53 1981.92,1402.07 1998.64,1408.67 2015.36,1414.42 2049.65,1423.91 2083.94,1430.89 2121.5,1436.34 2159.07,1440.08 2213.64,1443.44 2268.21,1445.25 2279.41,1445.5 2290.6,1445.72 \"/>\n",
       "<path clip-path=\"url(#clip660)\" d=\"M2007.5 198.898 L2279.55 198.898 L2279.55 95.2176 L2007.5 95.2176  Z\" fill=\"#ffffff\" fill-rule=\"evenodd\" fill-opacity=\"1\"/>\n",
       "<polyline clip-path=\"url(#clip660)\" style=\"stroke:#000000; stroke-linecap:round; stroke-linejoin:round; stroke-width:4; stroke-opacity:1; fill:none\" points=\"2007.5,198.898 2279.55,198.898 2279.55,95.2176 2007.5,95.2176 2007.5,198.898 \"/>\n",
       "<polyline clip-path=\"url(#clip660)\" style=\"stroke:#009af9; stroke-linecap:round; stroke-linejoin:round; stroke-width:4; stroke-opacity:1; fill:none\" points=\"2031.91,147.058 2178.32,147.058 \"/>\n",
       "<path clip-path=\"url(#clip660)\" d=\"M2216.56 166.745 Q2214.76 171.375 2213.04 172.787 Q2211.33 174.199 2208.46 174.199 L2205.06 174.199 L2205.06 170.634 L2207.56 170.634 Q2209.32 170.634 2210.29 169.8 Q2211.26 168.967 2212.44 165.865 L2213.2 163.921 L2202.72 138.412 L2207.23 138.412 L2215.33 158.689 L2223.44 138.412 L2227.95 138.412 L2216.56 166.745 Z\" fill=\"#000000\" fill-rule=\"nonzero\" fill-opacity=\"1\" /><path clip-path=\"url(#clip660)\" d=\"M2235.24 160.402 L2242.88 160.402 L2242.88 134.037 L2234.57 135.703 L2234.57 131.444 L2242.83 129.778 L2247.51 129.778 L2247.51 160.402 L2255.15 160.402 L2255.15 164.338 L2235.24 164.338 L2235.24 160.402 Z\" fill=\"#000000\" fill-rule=\"nonzero\" fill-opacity=\"1\" /></svg>\n"
      ]
     },
     "metadata": {},
     "output_type": "display_data"
    }
   ],
   "source": [
    "using Distributions #パッケージの利用宣言\n",
    "using StatsPlots #↑のパッケージにくっついてきてるはず\n",
    "\n",
    "function main()\n",
    "    d = Normal(0 , 1) #Distributionsに入っている正規分布の関数を利用\n",
    "    plot(d) #StatsPlotsに入っている関数を使ってプロット\n",
    "end\n",
    "\n",
    "main()"
   ]
  },
  {
   "cell_type": "markdown",
   "metadata": {},
   "source": [
    "このような形で, 様々なパッケージを使うことができます."
   ]
  },
  {
   "cell_type": "markdown",
   "metadata": {},
   "source": [
    "## Juliaの書き方\n"
   ]
  },
  {
   "cell_type": "markdown",
   "metadata": {},
   "source": [
    "最後に, 私がなんとなく感じている`Julia`の書き方について, 私見を述べておきます.  \n",
    "私が普段書いているのは`C#`なのですが, そこでは配列（リスト）に対する要素の追加を以下のように書きます.\n",
    "\n",
    "``` C#\n",
    " var list = new List<int>();\n",
    " list.add(1);\n",
    "```\n",
    "\n",
    "流れとしては, リストのオブジェクトを作り, **そのオブジェクトの関数（メソッド）を呼び出して**, 値の追加を行います.  \n",
    "対して, 前述したように`Julia`では, 配列のオブジェクトを作り, **関数でその配列オブジェクトに対して操作して**, 値の追加を行います.  \n",
    "前者が`list.add(1)`という書き方なら, `Julia`は`push!(list, 1)`というスタイルなのだと思っています.  \n",
    "つまり, 他のオブジェクト指向な言語では`オブジェクト.関数名(引数)`と書くところを, `Julia`では`関数名(オブジェクト, 引数)`的に書くという感じです.  \n",
    "これを意識しておくと, `Julia`でパッケージを利用したり, 自分でコードを書くときに, 少し`Julia`らしさが出るのではないかと思っています."
   ]
  },
  {
   "cell_type": "markdown",
   "metadata": {},
   "source": []
  }
 ],
 "metadata": {
  "kernelspec": {
   "display_name": "Julia 1.9.2",
   "language": "julia",
   "name": "julia-1.9"
  },
  "language_info": {
   "file_extension": ".jl",
   "mimetype": "application/julia",
   "name": "julia",
   "version": "1.9.2"
  }
 },
 "nbformat": 4,
 "nbformat_minor": 2
}
