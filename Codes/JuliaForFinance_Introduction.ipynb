{
 "cells": [
  {
   "cell_type": "markdown",
   "metadata": {},
   "source": [
    "# Juliaで動かす金融計算-環境構築編"
   ]
  },
  {
   "cell_type": "markdown",
   "metadata": {},
   "source": [
    "## はじめに\n"
   ]
  },
  {
   "cell_type": "markdown",
   "metadata": {},
   "source": [
    "金融の世界では様々な商品及び, それらから派生したデリバティブが取引されています.  \n",
    "それらの理論的な価格やリスク値は, 数理ファイナンスや金融工学といった, 高度に数学的なツールを用いて計算されています.  \n",
    "これらの理論やダイナミクスは非常に面白い（と私は思っている）のですが, 背景に高度な数学があるため, それらに触れて「面白い！」と感じるための敷居が高いのが現状です.  \n",
    "そこでここでは, それら高度な数学は一旦脇に置いといて, プログラミングを用いて実際に金融のダイナミクスの一端を垣間見ることで, 皆様に「金融って面白い！」と感じていただくことを目指してみました.   \n",
    "\n",
    "使用する言語には, `Julia`と呼ばれるプログラミング言語を選定しました.  \n",
    "選定理由は完全に私の趣味です.   \n",
    "ただ, 金融の世界でも部分的に用いられているようで, 例えば世界的な資産運用会社であるBlackRockがデータ分析基盤に`Julia`を採用したそうです.  （[参考記事](https://juliahub.com/case-studies/blackrock/)）  \n",
    "\n",
    "浅学ながら, 私の思う`Julia`の良いところは, 書きやすい上に速いというところです.  \n",
    "書きやすさについては, 実際にこれから体感してもらうとして, 速さについては, C言語と同じくらい速いと公式にも書いてあります.（[公式ドキュメント](https://docs.julialang.org/en/v1/#man-introduction)）  \n",
    "この, 「高級電卓」こと`Julia`の力を借りて, 金融の面白さに少しでも触れていただければと思います.\n"
   ]
  },
  {
   "cell_type": "markdown",
   "metadata": {},
   "source": [
    "## 環境構築\n",
    "本講座では, プログラミング言語として`Julia`を用います. また, エディタ（及び実行環境）として`VSCode`を使います.  \n",
    "まずは, これらの環境構築を行いましょう."
   ]
  },
  {
   "cell_type": "markdown",
   "metadata": {},
   "source": [
    "### Juliaの環境構築\n"
   ]
  },
  {
   "cell_type": "markdown",
   "metadata": {},
   "source": [
    "\n",
    "`Julia`の環境構築（インストール）を行いましょう.\n",
    "\n",
    "1. [Juliaの公式サイト](https://julialang.org/downloads/)からJuliaのインストーラーをダウンロードする.  \n",
    "Current stable releaseから自分のPCにあったインストーラーをダウンロードしてください.  \n",
    "![julia_current_stable_release.png](..\\Figs\\julia_current_stable_release.png)  \n",
    "2. インストーラーを起動する.  \n",
    "3. インストーラーの指示に従って進める.  \n",
    "（※途中でパスの追加をするかどうか聞かれたら, 追加しておくと便利です.また, デスクトップアイコンも追加しておきましょう.）  \n",
    "4. `Julia`を起動する.  \n",
    "インストールが終わったら, Juliaを起動してみましょう.下記のアイコンをClickします（Windowsの場合. Macの人はどっかから起動できるはず...）  \n",
    "![julia_icon.png](..\\Figs\\julia_icon.png)  \n",
    "5. 下記が表示されたら成功です！  \n",
    "![julia_start.png](..\\Figs\\julia_start.png)  "
   ]
  },
  {
   "cell_type": "markdown",
   "metadata": {},
   "source": [
    "### VSCodeのインストール\n"
   ]
  },
  {
   "cell_type": "markdown",
   "metadata": {},
   "source": [
    "次は, エディタ（および実行環境）である`VSCode`のダウンロードを行いましょう.\n",
    "\n",
    "1. [VSCodeの公式ページ](https://code.visualstudio.com/)から, インストーラーをダウンロードする.  \n",
    "2. インストーラーに従って進める.  \n",
    "（途中でデスクトップアイコンを追加するか聞かれたら, これも追加しておきましょう.）\n",
    "3. `VSCode`を起動する.  \n",
    "下記のアイコンから起動してみましょう（Windowsの場合. Macの人はどっかから起動できるはず...）  \n",
    "![vscode_icon.png](..\\Figs\\vscode_icon.png)  \n",
    "4. 起動されればインストール完了です！  "
   ]
  },
  {
   "cell_type": "markdown",
   "metadata": {},
   "source": [
    "### VSCodeのJulia用拡張機能をインストール\n"
   ]
  },
  {
   "cell_type": "markdown",
   "metadata": {},
   "source": [
    "VSCodeのインストールが完了したら, `Julia`用の拡張機能をダウンロードしましょう.\n",
    "\n",
    "1. `VSCode`の左側メニューの下記アイコンをクリックする.  \n",
    "![vscode_menu.png](..\\Figs\\vscode_menu.png)  \n",
    "2. 検索ボックスに\"Julia\"と入れて, 下記拡張機能をインストールする.  \n",
    "![vscode_julia_extension.png](..\\Figs\\vscode_julia_extension.png)  \n",
    "3. インストールされたら完了！  \n",
    "\n",
    "（日本語がいい人向け）  \n",
    "日本語がいい人は, 以下の日本語化拡張機能をインストールしておくといいでしょう.  \n",
    "![vscode_japanese_extension.png](..\\Figs\\vscode_japanese_extension.png)"
   ]
  },
  {
   "cell_type": "markdown",
   "metadata": {},
   "source": [
    "### Juliaを動かしてみよう\n"
   ]
  },
  {
   "cell_type": "markdown",
   "metadata": {},
   "source": [
    "`Julia`と`VSCode`の設定が終わったら, 実際にコードを書いてみましょう.  \n",
    "\n",
    "1. コード置き場として, 適当なフォルダを作りましょう.  \n",
    "2. `VSCode`を起動して, メニューバーのファイルからフォルダーを開くで, ↑で作ったフォルダを開きましょう.  \n",
    "3. 下記のメニューバーで新規ファイルの追加を押して, \"HelloWorld.jl\"を作りましょう.   \n",
    "![vscode_new_file.png](..\\Figs\\vscode_new_file.png)  \n",
    "4. 初めてのコードを書きましょう. 下記のコードを書いてみてください.  \n",
    "`println(\"Hello World\")`  \n",
    "5. 右上の実行アイコンを押す.  \n",
    "![vscode_execute_julia.png](..\\Figs\\vscode_execute_julia.png)  \n",
    "6. ターミナルに\"Hello World\"が表示されればOK！  \n",
    "![vscode_hello_world.png](..\\Figs\\vscode_hello_world.png)  \n",
    "7. 書いたコードは保存しておきましょう.  "
   ]
  },
  {
   "cell_type": "code",
   "execution_count": null,
   "metadata": {},
   "outputs": [],
   "source": []
  }
 ],
 "metadata": {
  "kernelspec": {
   "display_name": "Julia 1.9.2",
   "language": "julia",
   "name": "julia-1.9"
  },
  "language_info": {
   "file_extension": ".jl",
   "mimetype": "application/julia",
   "name": "julia",
   "version": "1.9.2"
  }
 },
 "nbformat": 4,
 "nbformat_minor": 4
}
